{
 "cells": [
  {
   "cell_type": "markdown",
   "id": "0e363c3d",
   "metadata": {},
   "source": [
    "# NLP Seminar 3: Text classification with neural networks (MLPs, RNNs)"
   ]
  },
  {
   "cell_type": "markdown",
   "id": "4fd3f8d4",
   "metadata": {},
   "source": [
    "In this seminar, we cover the implementation of \"all-in-one\" text classification neural networks using the `tensorflow` package. The resulting models include both a neural text embedding and a neural classifier in a single pipeline.\n",
    "\n",
    "The focus is here on two different types of architectures: multi-layer perceptrons (MLPs) and (bidirectional) recurrent neural netrowks (RNNs)."
   ]
  },
  {
   "cell_type": "code",
   "execution_count": 1,
   "id": "64633a93",
   "metadata": {},
   "outputs": [],
   "source": [
    "import numpy as np\n",
    "import pandas as pd\n",
    "import matplotlib.pyplot as plt\n",
    "import json"
   ]
  },
  {
   "cell_type": "code",
   "execution_count": 2,
   "id": "c70ffd51",
   "metadata": {},
   "outputs": [],
   "source": [
    "import tensorflow as tf\n",
    "from tensorflow import keras\n",
    "from tensorflow.keras import layers, losses, optimizers\n",
    "from tensorflow.keras import Sequential"
   ]
  },
  {
   "cell_type": "markdown",
   "id": "f6638bd1",
   "metadata": {},
   "source": [
    "## Data preparation"
   ]
  },
  {
   "cell_type": "markdown",
   "id": "1a0da84b",
   "metadata": {},
   "source": [
    "We again use the Simpsons script dataset. As a toy example, the classification goal is to determine which character is speaking given a textual dialogue line.\n",
    "\n",
    "Data source: https://www.kaggle.com/datasets/prashant111/the-simpsons-dataset"
   ]
  },
  {
   "cell_type": "code",
   "execution_count": 3,
   "id": "82dfe53d",
   "metadata": {},
   "outputs": [
    {
     "data": {
      "text/html": [
       "<div>\n",
       "<style scoped>\n",
       "    .dataframe tbody tr th:only-of-type {\n",
       "        vertical-align: middle;\n",
       "    }\n",
       "\n",
       "    .dataframe tbody tr th {\n",
       "        vertical-align: top;\n",
       "    }\n",
       "\n",
       "    .dataframe thead th {\n",
       "        text-align: right;\n",
       "    }\n",
       "</style>\n",
       "<table border=\"1\" class=\"dataframe\">\n",
       "  <thead>\n",
       "    <tr style=\"text-align: right;\">\n",
       "      <th></th>\n",
       "      <th>raw_character_text</th>\n",
       "      <th>raw_location_text</th>\n",
       "      <th>spoken_words</th>\n",
       "      <th>normalized_text</th>\n",
       "    </tr>\n",
       "  </thead>\n",
       "  <tbody>\n",
       "    <tr>\n",
       "      <th>0</th>\n",
       "      <td>Miss Hoover</td>\n",
       "      <td>Springfield Elementary School</td>\n",
       "      <td>No, actually, it was a little of both. Sometim...</td>\n",
       "      <td>no actually it was a little of both sometimes ...</td>\n",
       "    </tr>\n",
       "    <tr>\n",
       "      <th>1</th>\n",
       "      <td>Lisa Simpson</td>\n",
       "      <td>Springfield Elementary School</td>\n",
       "      <td>Where's Mr. Bergstrom?</td>\n",
       "      <td>wheres mr bergstrom</td>\n",
       "    </tr>\n",
       "    <tr>\n",
       "      <th>2</th>\n",
       "      <td>Miss Hoover</td>\n",
       "      <td>Springfield Elementary School</td>\n",
       "      <td>I don't know. Although I'd sure like to talk t...</td>\n",
       "      <td>i dont know although id sure like to talk to h...</td>\n",
       "    </tr>\n",
       "    <tr>\n",
       "      <th>3</th>\n",
       "      <td>Lisa Simpson</td>\n",
       "      <td>Springfield Elementary School</td>\n",
       "      <td>That life is worth living.</td>\n",
       "      <td>that life is worth living</td>\n",
       "    </tr>\n",
       "    <tr>\n",
       "      <th>4</th>\n",
       "      <td>Edna Krabappel-Flanders</td>\n",
       "      <td>Springfield Elementary School</td>\n",
       "      <td>The polls will be open from now until the end ...</td>\n",
       "      <td>the polls will be open from now until the end ...</td>\n",
       "    </tr>\n",
       "  </tbody>\n",
       "</table>\n",
       "</div>"
      ],
      "text/plain": [
       "        raw_character_text              raw_location_text  \\\n",
       "0              Miss Hoover  Springfield Elementary School   \n",
       "1             Lisa Simpson  Springfield Elementary School   \n",
       "2              Miss Hoover  Springfield Elementary School   \n",
       "3             Lisa Simpson  Springfield Elementary School   \n",
       "4  Edna Krabappel-Flanders  Springfield Elementary School   \n",
       "\n",
       "                                        spoken_words  \\\n",
       "0  No, actually, it was a little of both. Sometim...   \n",
       "1                             Where's Mr. Bergstrom?   \n",
       "2  I don't know. Although I'd sure like to talk t...   \n",
       "3                         That life is worth living.   \n",
       "4  The polls will be open from now until the end ...   \n",
       "\n",
       "                                     normalized_text  \n",
       "0  no actually it was a little of both sometimes ...  \n",
       "1                                wheres mr bergstrom  \n",
       "2  i dont know although id sure like to talk to h...  \n",
       "3                          that life is worth living  \n",
       "4  the polls will be open from now until the end ...  "
      ]
     },
     "execution_count": 3,
     "metadata": {},
     "output_type": "execute_result"
    }
   ],
   "source": [
    "simpsons = pd.read_csv(\"../data/simpsons_script_lines.csv\",\n",
    "                       usecols=[\"raw_character_text\", \"raw_location_text\", \"spoken_words\", \"normalized_text\"],\n",
    "                       dtype={'raw_character_text':'string', 'raw_location_text':'string',\n",
    "                              'spoken_words':'string', 'normalized_text':'string'})\n",
    "simpsons.head()"
   ]
  },
  {
   "cell_type": "code",
   "execution_count": 4,
   "id": "fad41f58",
   "metadata": {},
   "outputs": [
    {
     "name": "stdout",
     "output_type": "stream",
     "text": [
      "<class 'pandas.core.frame.DataFrame'>\n",
      "RangeIndex: 158271 entries, 0 to 158270\n",
      "Data columns (total 4 columns):\n",
      " #   Column              Non-Null Count   Dtype \n",
      "---  ------              --------------   ----- \n",
      " 0   raw_character_text  140749 non-null  string\n",
      " 1   raw_location_text   157863 non-null  string\n",
      " 2   spoken_words        132112 non-null  string\n",
      " 3   normalized_text     132087 non-null  string\n",
      "dtypes: string(4)\n",
      "memory usage: 4.8 MB\n"
     ]
    }
   ],
   "source": [
    "simpsons.info()"
   ]
  },
  {
   "cell_type": "code",
   "execution_count": 5,
   "id": "5b721d19",
   "metadata": {},
   "outputs": [
    {
     "data": {
      "text/html": [
       "<div>\n",
       "<style scoped>\n",
       "    .dataframe tbody tr th:only-of-type {\n",
       "        vertical-align: middle;\n",
       "    }\n",
       "\n",
       "    .dataframe tbody tr th {\n",
       "        vertical-align: top;\n",
       "    }\n",
       "\n",
       "    .dataframe thead th {\n",
       "        text-align: right;\n",
       "    }\n",
       "</style>\n",
       "<table border=\"1\" class=\"dataframe\">\n",
       "  <thead>\n",
       "    <tr style=\"text-align: right;\">\n",
       "      <th></th>\n",
       "      <th>raw_character_text</th>\n",
       "      <th>raw_location_text</th>\n",
       "      <th>spoken_words</th>\n",
       "      <th>normalized_text</th>\n",
       "    </tr>\n",
       "  </thead>\n",
       "  <tbody>\n",
       "    <tr>\n",
       "      <th>0</th>\n",
       "      <td>Miss Hoover</td>\n",
       "      <td>Springfield Elementary School</td>\n",
       "      <td>No, actually, it was a little of both. Sometim...</td>\n",
       "      <td>no actually it was a little of both sometimes ...</td>\n",
       "    </tr>\n",
       "    <tr>\n",
       "      <th>1</th>\n",
       "      <td>Lisa Simpson</td>\n",
       "      <td>Springfield Elementary School</td>\n",
       "      <td>Where's Mr. Bergstrom?</td>\n",
       "      <td>wheres mr bergstrom</td>\n",
       "    </tr>\n",
       "    <tr>\n",
       "      <th>2</th>\n",
       "      <td>Miss Hoover</td>\n",
       "      <td>Springfield Elementary School</td>\n",
       "      <td>I don't know. Although I'd sure like to talk t...</td>\n",
       "      <td>i dont know although id sure like to talk to h...</td>\n",
       "    </tr>\n",
       "    <tr>\n",
       "      <th>3</th>\n",
       "      <td>Lisa Simpson</td>\n",
       "      <td>Springfield Elementary School</td>\n",
       "      <td>That life is worth living.</td>\n",
       "      <td>that life is worth living</td>\n",
       "    </tr>\n",
       "    <tr>\n",
       "      <th>4</th>\n",
       "      <td>Edna Krabappel-Flanders</td>\n",
       "      <td>Springfield Elementary School</td>\n",
       "      <td>The polls will be open from now until the end ...</td>\n",
       "      <td>the polls will be open from now until the end ...</td>\n",
       "    </tr>\n",
       "  </tbody>\n",
       "</table>\n",
       "</div>"
      ],
      "text/plain": [
       "        raw_character_text              raw_location_text  \\\n",
       "0              Miss Hoover  Springfield Elementary School   \n",
       "1             Lisa Simpson  Springfield Elementary School   \n",
       "2              Miss Hoover  Springfield Elementary School   \n",
       "3             Lisa Simpson  Springfield Elementary School   \n",
       "4  Edna Krabappel-Flanders  Springfield Elementary School   \n",
       "\n",
       "                                        spoken_words  \\\n",
       "0  No, actually, it was a little of both. Sometim...   \n",
       "1                             Where's Mr. Bergstrom?   \n",
       "2  I don't know. Although I'd sure like to talk t...   \n",
       "3                         That life is worth living.   \n",
       "4  The polls will be open from now until the end ...   \n",
       "\n",
       "                                     normalized_text  \n",
       "0  no actually it was a little of both sometimes ...  \n",
       "1                                wheres mr bergstrom  \n",
       "2  i dont know although id sure like to talk to h...  \n",
       "3                          that life is worth living  \n",
       "4  the polls will be open from now until the end ...  "
      ]
     },
     "execution_count": 5,
     "metadata": {},
     "output_type": "execute_result"
    }
   ],
   "source": [
    "simpsons = simpsons.dropna().drop_duplicates().reset_index(drop=True)\n",
    "simpsons.head()"
   ]
  },
  {
   "cell_type": "markdown",
   "id": "539589e1",
   "metadata": {},
   "source": [
    "We restrict the data to the 10 most frequent characters."
   ]
  },
  {
   "cell_type": "code",
   "execution_count": 8,
   "id": "e534ad4f",
   "metadata": {},
   "outputs": [
    {
     "data": {
      "text/plain": [
       "Index(['Homer Simpson', 'Marge Simpson', 'Bart Simpson', 'Lisa Simpson',\n",
       "       'C. Montgomery Burns', 'Moe Szyslak', 'Seymour Skinner', 'Ned Flanders',\n",
       "       'Chief Wiggum', 'Grampa Simpson'],\n",
       "      dtype='string', name='raw_character_text')"
      ]
     },
     "execution_count": 8,
     "metadata": {},
     "output_type": "execute_result"
    }
   ],
   "source": [
    "n_classes = 10\n",
    "simpsons['raw_character_text'].value_counts(dropna=False)"
   ]
  },
  {
   "cell_type": "code",
   "execution_count": 9,
   "id": "3bbebc7e",
   "metadata": {},
   "outputs": [
    {
     "data": {
      "text/plain": [
       "['Homer Simpson',\n",
       " 'Marge Simpson',\n",
       " 'Bart Simpson',\n",
       " 'Lisa Simpson',\n",
       " 'C. Montgomery Burns',\n",
       " 'Moe Szyslak',\n",
       " 'Seymour Skinner',\n",
       " 'Ned Flanders',\n",
       " 'Chief Wiggum',\n",
       " 'Grampa Simpson']"
      ]
     },
     "execution_count": 9,
     "metadata": {},
     "output_type": "execute_result"
    }
   ],
   "source": [
    "main_characters = simpsons['raw_character_text'].value_counts(dropna=False)[:n_classes].index.to_list()\n",
    "main_characters"
   ]
  },
  {
   "cell_type": "code",
   "execution_count": 10,
   "id": "76fba5c9",
   "metadata": {},
   "outputs": [
    {
     "data": {
      "text/html": [
       "<div>\n",
       "<style scoped>\n",
       "    .dataframe tbody tr th:only-of-type {\n",
       "        vertical-align: middle;\n",
       "    }\n",
       "\n",
       "    .dataframe tbody tr th {\n",
       "        vertical-align: top;\n",
       "    }\n",
       "\n",
       "    .dataframe thead th {\n",
       "        text-align: right;\n",
       "    }\n",
       "</style>\n",
       "<table border=\"1\" class=\"dataframe\">\n",
       "  <thead>\n",
       "    <tr style=\"text-align: right;\">\n",
       "      <th></th>\n",
       "      <th>raw_character_text</th>\n",
       "      <th>raw_location_text</th>\n",
       "      <th>spoken_words</th>\n",
       "      <th>normalized_text</th>\n",
       "    </tr>\n",
       "  </thead>\n",
       "  <tbody>\n",
       "    <tr>\n",
       "      <th>1</th>\n",
       "      <td>Lisa Simpson</td>\n",
       "      <td>Springfield Elementary School</td>\n",
       "      <td>Where's Mr. Bergstrom?</td>\n",
       "      <td>wheres mr bergstrom</td>\n",
       "    </tr>\n",
       "    <tr>\n",
       "      <th>3</th>\n",
       "      <td>Lisa Simpson</td>\n",
       "      <td>Springfield Elementary School</td>\n",
       "      <td>That life is worth living.</td>\n",
       "      <td>that life is worth living</td>\n",
       "    </tr>\n",
       "    <tr>\n",
       "      <th>7</th>\n",
       "      <td>Bart Simpson</td>\n",
       "      <td>Springfield Elementary School</td>\n",
       "      <td>Victory party under the slide!</td>\n",
       "      <td>victory party under the slide</td>\n",
       "    </tr>\n",
       "    <tr>\n",
       "      <th>8</th>\n",
       "      <td>Lisa Simpson</td>\n",
       "      <td>Apartment Building</td>\n",
       "      <td>Mr. Bergstrom! Mr. Bergstrom!</td>\n",
       "      <td>mr bergstrom mr bergstrom</td>\n",
       "    </tr>\n",
       "    <tr>\n",
       "      <th>10</th>\n",
       "      <td>Lisa Simpson</td>\n",
       "      <td>Apartment Building</td>\n",
       "      <td>Do you know where I could find him?</td>\n",
       "      <td>do you know where i could find him</td>\n",
       "    </tr>\n",
       "    <tr>\n",
       "      <th>...</th>\n",
       "      <td>...</td>\n",
       "      <td>...</td>\n",
       "      <td>...</td>\n",
       "      <td>...</td>\n",
       "    </tr>\n",
       "    <tr>\n",
       "      <th>129781</th>\n",
       "      <td>Lisa Simpson</td>\n",
       "      <td>SIMPSON HOUSE - BASEMENT STAIRCASE</td>\n",
       "      <td>Can we have wine?</td>\n",
       "      <td>can we have wine</td>\n",
       "    </tr>\n",
       "    <tr>\n",
       "      <th>129782</th>\n",
       "      <td>Lisa Simpson</td>\n",
       "      <td>SIMPSON HOUSE - BASEMENT STAIRCASE</td>\n",
       "      <td>Can I have wine?</td>\n",
       "      <td>can i have wine</td>\n",
       "    </tr>\n",
       "    <tr>\n",
       "      <th>129783</th>\n",
       "      <td>Lisa Simpson</td>\n",
       "      <td>SIMPSON HOUSE - BASEMENT STAIRCASE</td>\n",
       "      <td>Does Bart have to be there?</td>\n",
       "      <td>does bart have to be there</td>\n",
       "    </tr>\n",
       "    <tr>\n",
       "      <th>129784</th>\n",
       "      <td>Lisa Simpson</td>\n",
       "      <td>SIMPSON HOUSE - BASEMENT STAIRCASE</td>\n",
       "      <td>Can we do it this week?</td>\n",
       "      <td>can we do it this week</td>\n",
       "    </tr>\n",
       "    <tr>\n",
       "      <th>129785</th>\n",
       "      <td>Lisa Simpson</td>\n",
       "      <td>Springfield Elementary School</td>\n",
       "      <td>Mr. Bergstrom, we request the pleasure of your...</td>\n",
       "      <td>mr bergstrom we request the pleasure of your c...</td>\n",
       "    </tr>\n",
       "  </tbody>\n",
       "</table>\n",
       "<p>77163 rows × 4 columns</p>\n",
       "</div>"
      ],
      "text/plain": [
       "       raw_character_text                   raw_location_text  \\\n",
       "1            Lisa Simpson       Springfield Elementary School   \n",
       "3            Lisa Simpson       Springfield Elementary School   \n",
       "7            Bart Simpson       Springfield Elementary School   \n",
       "8            Lisa Simpson                  Apartment Building   \n",
       "10           Lisa Simpson                  Apartment Building   \n",
       "...                   ...                                 ...   \n",
       "129781       Lisa Simpson  SIMPSON HOUSE - BASEMENT STAIRCASE   \n",
       "129782       Lisa Simpson  SIMPSON HOUSE - BASEMENT STAIRCASE   \n",
       "129783       Lisa Simpson  SIMPSON HOUSE - BASEMENT STAIRCASE   \n",
       "129784       Lisa Simpson  SIMPSON HOUSE - BASEMENT STAIRCASE   \n",
       "129785       Lisa Simpson       Springfield Elementary School   \n",
       "\n",
       "                                             spoken_words  \\\n",
       "1                                  Where's Mr. Bergstrom?   \n",
       "3                              That life is worth living.   \n",
       "7                          Victory party under the slide!   \n",
       "8                           Mr. Bergstrom! Mr. Bergstrom!   \n",
       "10                    Do you know where I could find him?   \n",
       "...                                                   ...   \n",
       "129781                                  Can we have wine?   \n",
       "129782                                   Can I have wine?   \n",
       "129783                        Does Bart have to be there?   \n",
       "129784                            Can we do it this week?   \n",
       "129785  Mr. Bergstrom, we request the pleasure of your...   \n",
       "\n",
       "                                          normalized_text  \n",
       "1                                     wheres mr bergstrom  \n",
       "3                               that life is worth living  \n",
       "7                           victory party under the slide  \n",
       "8                               mr bergstrom mr bergstrom  \n",
       "10                     do you know where i could find him  \n",
       "...                                                   ...  \n",
       "129781                                   can we have wine  \n",
       "129782                                    can i have wine  \n",
       "129783                         does bart have to be there  \n",
       "129784                             can we do it this week  \n",
       "129785  mr bergstrom we request the pleasure of your c...  \n",
       "\n",
       "[77163 rows x 4 columns]"
      ]
     },
     "execution_count": 10,
     "metadata": {},
     "output_type": "execute_result"
    }
   ],
   "source": [
    "simpsons_main = simpsons.query(\"`raw_character_text` in @main_characters\")\n",
    "simpsons_main"
   ]
  },
  {
   "cell_type": "code",
   "execution_count": 13,
   "id": "38a15d1e",
   "metadata": {},
   "outputs": [
    {
     "data": {
      "text/plain": [
       "array(['Lisa Simpson', 'Lisa Simpson', 'Bart Simpson', ...,\n",
       "       'Lisa Simpson', 'Lisa Simpson', 'Lisa Simpson'], dtype=object)"
      ]
     },
     "execution_count": 13,
     "metadata": {},
     "output_type": "execute_result"
    }
   ],
   "source": [
    "X = simpsons_main[\"normalized_text\"].to_numpy()\n",
    "y = simpsons_main[\"raw_character_text\"].to_numpy()\n",
    "y"
   ]
  },
  {
   "cell_type": "code",
   "execution_count": 14,
   "id": "b82b1166",
   "metadata": {},
   "outputs": [
    {
     "data": {
      "text/plain": [
       "array([3, 3, 2, ..., 3, 3, 3])"
      ]
     },
     "execution_count": 14,
     "metadata": {},
     "output_type": "execute_result"
    }
   ],
   "source": [
    "y_int = np.array([np.where(np.array(main_characters)==char)[0].item() for char in y])\n",
    "y_int"
   ]
  },
  {
   "cell_type": "markdown",
   "id": "c2f37455",
   "metadata": {},
   "source": [
    "Train-validation data split"
   ]
  },
  {
   "cell_type": "code",
   "execution_count": 15,
   "id": "e9bd2e1b",
   "metadata": {},
   "outputs": [],
   "source": [
    "from sklearn.model_selection import train_test_split\n",
    "X_train, X_valid, y_train, y_valid = train_test_split(X, y_int, test_size=0.2, random_state=42, shuffle=True)"
   ]
  },
  {
   "cell_type": "markdown",
   "id": "7b03d898",
   "metadata": {},
   "source": [
    "## TextVectorization and Embedding layers"
   ]
  },
  {
   "cell_type": "markdown",
   "id": "8736fb0b",
   "metadata": {},
   "source": [
    "In a `Sequantial` tensorflow model, the [`TextVectorization`](https://www.tensorflow.org/api_docs/python/tf/keras/layers/TextVectorization) layer is used to transform raw text into bag of words.\n",
    "For efficiency reasons, the bag-of-words representations are encoded as integers instead of one-hot-vectors."
   ]
  },
  {
   "cell_type": "code",
   "execution_count": 16,
   "id": "bc96723a",
   "metadata": {},
   "outputs": [],
   "source": [
    "# A corpus of two arbitrary sentence examples\n",
    "corp = [\"Lunch is ready\",\n",
    "        \"It is time for lunch\"]"
   ]
  },
  {
   "cell_type": "code",
   "execution_count": 17,
   "id": "1f7d6e5c",
   "metadata": {},
   "outputs": [],
   "source": [
    "max_vocab = 100\n",
    "sequence_length = 8\n",
    "vectorize_layer = layers.TextVectorization(max_tokens=max_vocab, standardize='lower_and_strip_punctuation',\n",
    "                                           output_mode='int', output_sequence_length=sequence_length)\n",
    "vectorize_layer.adapt(corp)"
   ]
  },
  {
   "cell_type": "code",
   "execution_count": 18,
   "id": "d4c66b0f",
   "metadata": {},
   "outputs": [
    {
     "data": {
      "text/plain": [
       "<tf.Tensor: shape=(2, 8), dtype=int64, numpy=\n",
       "array([[2, 3, 5, 0, 0, 0, 0, 0],\n",
       "       [6, 3, 4, 7, 2, 0, 0, 0]], dtype=int64)>"
      ]
     },
     "execution_count": 18,
     "metadata": {},
     "output_type": "execute_result"
    }
   ],
   "source": [
    "vectorize_layer(corp)"
   ]
  },
  {
   "cell_type": "code",
   "execution_count": 19,
   "id": "f97df7f7",
   "metadata": {},
   "outputs": [
    {
     "data": {
      "text/plain": [
       "['', '[UNK]', 'lunch', 'is', 'time', 'ready', 'it', 'for']"
      ]
     },
     "execution_count": 19,
     "metadata": {},
     "output_type": "execute_result"
    }
   ],
   "source": [
    "vectorize_layer.get_vocabulary()"
   ]
  },
  {
   "cell_type": "markdown",
   "id": "9ba234ba",
   "metadata": {},
   "source": [
    "Then, the [`Embedding`](https://www.tensorflow.org/api_docs/python/tf/keras/layers/Embedding) layer is usually used to transform the bag-of-words integers to (trainable) vectorial embeddings."
   ]
  },
  {
   "cell_type": "code",
   "execution_count": 20,
   "id": "5cab6780",
   "metadata": {},
   "outputs": [],
   "source": [
    "embedder = layers.Embedding(input_dim=len(vectorize_layer.get_vocabulary()), output_dim=8,\n",
    "                            embeddings_initializer='uniform')"
   ]
  },
  {
   "cell_type": "code",
   "execution_count": 24,
   "id": "90527f3f",
   "metadata": {},
   "outputs": [
    {
     "data": {
      "text/plain": [
       "<tf.Tensor: shape=(2, 8, 8), dtype=float32, numpy=\n",
       "array([[[ 0.03351693,  0.04650115,  0.04660762,  0.02287896,\n",
       "         -0.02128204,  0.00606395,  0.00159793, -0.03578224],\n",
       "        [-0.01407106, -0.00581966,  0.04188183,  0.04695914,\n",
       "         -0.04711745,  0.00488168,  0.03606768,  0.03198406],\n",
       "        [ 0.03318325,  0.03505028, -0.04357929,  0.04588039,\n",
       "          0.00525982,  0.00367085, -0.03571701, -0.04354965],\n",
       "        [ 0.03036059, -0.03452339, -0.03807882, -0.03263422,\n",
       "         -0.0217387 , -0.02842237,  0.04164929,  0.02214009],\n",
       "        [ 0.03036059, -0.03452339, -0.03807882, -0.03263422,\n",
       "         -0.0217387 , -0.02842237,  0.04164929,  0.02214009],\n",
       "        [ 0.03036059, -0.03452339, -0.03807882, -0.03263422,\n",
       "         -0.0217387 , -0.02842237,  0.04164929,  0.02214009],\n",
       "        [ 0.03036059, -0.03452339, -0.03807882, -0.03263422,\n",
       "         -0.0217387 , -0.02842237,  0.04164929,  0.02214009],\n",
       "        [ 0.03036059, -0.03452339, -0.03807882, -0.03263422,\n",
       "         -0.0217387 , -0.02842237,  0.04164929,  0.02214009]],\n",
       "\n",
       "       [[ 0.01470478, -0.00370675,  0.04226417,  0.03061206,\n",
       "          0.00665815,  0.00498564, -0.01424415,  0.00290389],\n",
       "        [-0.01407106, -0.00581966,  0.04188183,  0.04695914,\n",
       "         -0.04711745,  0.00488168,  0.03606768,  0.03198406],\n",
       "        [-0.03057854,  0.02987459, -0.00020113, -0.03416085,\n",
       "         -0.04368143,  0.01250705,  0.01145835,  0.04317904],\n",
       "        [ 0.03775216, -0.02036997, -0.02417701,  0.00035125,\n",
       "         -0.02500703,  0.02549824, -0.0031088 , -0.04149749],\n",
       "        [ 0.03351693,  0.04650115,  0.04660762,  0.02287896,\n",
       "         -0.02128204,  0.00606395,  0.00159793, -0.03578224],\n",
       "        [ 0.03036059, -0.03452339, -0.03807882, -0.03263422,\n",
       "         -0.0217387 , -0.02842237,  0.04164929,  0.02214009],\n",
       "        [ 0.03036059, -0.03452339, -0.03807882, -0.03263422,\n",
       "         -0.0217387 , -0.02842237,  0.04164929,  0.02214009],\n",
       "        [ 0.03036059, -0.03452339, -0.03807882, -0.03263422,\n",
       "         -0.0217387 , -0.02842237,  0.04164929,  0.02214009]]],\n",
       "      dtype=float32)>"
      ]
     },
     "execution_count": 24,
     "metadata": {},
     "output_type": "execute_result"
    }
   ],
   "source": [
    "embedder(vectorize_layer(corp))"
   ]
  },
  {
   "cell_type": "markdown",
   "id": "4c1ff94d",
   "metadata": {},
   "source": [
    "## MLP network architectures"
   ]
  },
  {
   "cell_type": "code",
   "execution_count": 30,
   "id": "2fbade44",
   "metadata": {},
   "outputs": [],
   "source": [
    "# Vocabulary size and number of words in a sequence.\n",
    "max_vocab = 10000\n",
    "sequence_length = 100"
   ]
  },
  {
   "cell_type": "markdown",
   "id": "46b93d90",
   "metadata": {},
   "source": [
    "The `TextVectorization` layer needs to be \"adapted\" (i.e. needs to construct the vocabulary) before beeing added in a `Sequential` model."
   ]
  },
  {
   "cell_type": "code",
   "execution_count": 31,
   "id": "93b2ab34",
   "metadata": {},
   "outputs": [],
   "source": [
    "# Use the text vectorization layer to normalize, split, and map strings to\n",
    "# integers. Note that the layer uses the custom standardization defined above.\n",
    "# Set maximum sequence length as all samples are not of the same length.\n",
    "\n",
    "vectorize_layer = layers.TextVectorization(max_tokens=max_vocab, standardize='lower_and_strip_punctuation',#or custom\n",
    "                                           output_mode='int', output_sequence_length=sequence_length)\n",
    "vectorize_layer.adapt(X_train)"
   ]
  },
  {
   "cell_type": "code",
   "execution_count": 32,
   "id": "c6f7db7f",
   "metadata": {},
   "outputs": [
    {
     "data": {
      "text/plain": [
       "array(['', '[UNK]', 'the', 'i', 'you', 'a', 'to', 'and', 'of', 'it',\n",
       "       'that', 'my', 'in', 'is', 'this', 'me', 'im', 'for', 'your', 'oh'],\n",
       "      dtype='<U18')"
      ]
     },
     "execution_count": 32,
     "metadata": {},
     "output_type": "execute_result"
    }
   ],
   "source": [
    "vocab = np.array(vectorize_layer.get_vocabulary())\n",
    "vocab[:20]"
   ]
  },
  {
   "cell_type": "markdown",
   "id": "8b08d21b",
   "metadata": {},
   "source": [
    "We construct a toy MLP example on top of the embedding layers, using the `Sequential` class."
   ]
  },
  {
   "cell_type": "code",
   "execution_count": 34,
   "id": "d767d110",
   "metadata": {},
   "outputs": [
    {
     "data": {
      "text/html": [
       "<pre style=\"white-space:pre;overflow-x:auto;line-height:normal;font-family:Menlo,'DejaVu Sans Mono',consolas,'Courier New',monospace\"><span style=\"font-weight: bold\">Model: \"MLP_model\"</span>\n",
       "</pre>\n"
      ],
      "text/plain": [
       "\u001b[1mModel: \"MLP_model\"\u001b[0m\n"
      ]
     },
     "metadata": {},
     "output_type": "display_data"
    },
    {
     "data": {
      "text/html": [
       "<pre style=\"white-space:pre;overflow-x:auto;line-height:normal;font-family:Menlo,'DejaVu Sans Mono',consolas,'Courier New',monospace\">┏━━━━━━━━━━━━━━━━━━━━━━━━━━━━━━━━━┳━━━━━━━━━━━━━━━━━━━━━━━━┳━━━━━━━━━━━━━━━┓\n",
       "┃<span style=\"font-weight: bold\"> Layer (type)                    </span>┃<span style=\"font-weight: bold\"> Output Shape           </span>┃<span style=\"font-weight: bold\">       Param # </span>┃\n",
       "┡━━━━━━━━━━━━━━━━━━━━━━━━━━━━━━━━━╇━━━━━━━━━━━━━━━━━━━━━━━━╇━━━━━━━━━━━━━━━┩\n",
       "│ text_vectorization_2            │ (<span style=\"color: #00d7ff; text-decoration-color: #00d7ff\">None</span>, <span style=\"color: #00af00; text-decoration-color: #00af00\">100</span>)            │             <span style=\"color: #00af00; text-decoration-color: #00af00\">0</span> │\n",
       "│ (<span style=\"color: #0087ff; text-decoration-color: #0087ff\">TextVectorization</span>)             │                        │               │\n",
       "├─────────────────────────────────┼────────────────────────┼───────────────┤\n",
       "│ embedding_1 (<span style=\"color: #0087ff; text-decoration-color: #0087ff\">Embedding</span>)         │ (<span style=\"color: #00d7ff; text-decoration-color: #00d7ff\">None</span>, <span style=\"color: #00af00; text-decoration-color: #00af00\">100</span>, <span style=\"color: #00af00; text-decoration-color: #00af00\">50</span>)        │       <span style=\"color: #00af00; text-decoration-color: #00af00\">500,000</span> │\n",
       "├─────────────────────────────────┼────────────────────────┼───────────────┤\n",
       "│ global_average_pooling1d        │ (<span style=\"color: #00d7ff; text-decoration-color: #00d7ff\">None</span>, <span style=\"color: #00af00; text-decoration-color: #00af00\">50</span>)             │             <span style=\"color: #00af00; text-decoration-color: #00af00\">0</span> │\n",
       "│ (<span style=\"color: #0087ff; text-decoration-color: #0087ff\">GlobalAveragePooling1D</span>)        │                        │               │\n",
       "├─────────────────────────────────┼────────────────────────┼───────────────┤\n",
       "│ dense (<span style=\"color: #0087ff; text-decoration-color: #0087ff\">Dense</span>)                   │ (<span style=\"color: #00d7ff; text-decoration-color: #00d7ff\">None</span>, <span style=\"color: #00af00; text-decoration-color: #00af00\">64</span>)             │         <span style=\"color: #00af00; text-decoration-color: #00af00\">3,264</span> │\n",
       "├─────────────────────────────────┼────────────────────────┼───────────────┤\n",
       "│ dropout (<span style=\"color: #0087ff; text-decoration-color: #0087ff\">Dropout</span>)               │ (<span style=\"color: #00d7ff; text-decoration-color: #00d7ff\">None</span>, <span style=\"color: #00af00; text-decoration-color: #00af00\">64</span>)             │             <span style=\"color: #00af00; text-decoration-color: #00af00\">0</span> │\n",
       "├─────────────────────────────────┼────────────────────────┼───────────────┤\n",
       "│ dense_1 (<span style=\"color: #0087ff; text-decoration-color: #0087ff\">Dense</span>)                 │ (<span style=\"color: #00d7ff; text-decoration-color: #00d7ff\">None</span>, <span style=\"color: #00af00; text-decoration-color: #00af00\">10</span>)             │           <span style=\"color: #00af00; text-decoration-color: #00af00\">650</span> │\n",
       "└─────────────────────────────────┴────────────────────────┴───────────────┘\n",
       "</pre>\n"
      ],
      "text/plain": [
       "┏━━━━━━━━━━━━━━━━━━━━━━━━━━━━━━━━━┳━━━━━━━━━━━━━━━━━━━━━━━━┳━━━━━━━━━━━━━━━┓\n",
       "┃\u001b[1m \u001b[0m\u001b[1mLayer (type)                   \u001b[0m\u001b[1m \u001b[0m┃\u001b[1m \u001b[0m\u001b[1mOutput Shape          \u001b[0m\u001b[1m \u001b[0m┃\u001b[1m \u001b[0m\u001b[1m      Param #\u001b[0m\u001b[1m \u001b[0m┃\n",
       "┡━━━━━━━━━━━━━━━━━━━━━━━━━━━━━━━━━╇━━━━━━━━━━━━━━━━━━━━━━━━╇━━━━━━━━━━━━━━━┩\n",
       "│ text_vectorization_2            │ (\u001b[38;5;45mNone\u001b[0m, \u001b[38;5;34m100\u001b[0m)            │             \u001b[38;5;34m0\u001b[0m │\n",
       "│ (\u001b[38;5;33mTextVectorization\u001b[0m)             │                        │               │\n",
       "├─────────────────────────────────┼────────────────────────┼───────────────┤\n",
       "│ embedding_1 (\u001b[38;5;33mEmbedding\u001b[0m)         │ (\u001b[38;5;45mNone\u001b[0m, \u001b[38;5;34m100\u001b[0m, \u001b[38;5;34m50\u001b[0m)        │       \u001b[38;5;34m500,000\u001b[0m │\n",
       "├─────────────────────────────────┼────────────────────────┼───────────────┤\n",
       "│ global_average_pooling1d        │ (\u001b[38;5;45mNone\u001b[0m, \u001b[38;5;34m50\u001b[0m)             │             \u001b[38;5;34m0\u001b[0m │\n",
       "│ (\u001b[38;5;33mGlobalAveragePooling1D\u001b[0m)        │                        │               │\n",
       "├─────────────────────────────────┼────────────────────────┼───────────────┤\n",
       "│ dense (\u001b[38;5;33mDense\u001b[0m)                   │ (\u001b[38;5;45mNone\u001b[0m, \u001b[38;5;34m64\u001b[0m)             │         \u001b[38;5;34m3,264\u001b[0m │\n",
       "├─────────────────────────────────┼────────────────────────┼───────────────┤\n",
       "│ dropout (\u001b[38;5;33mDropout\u001b[0m)               │ (\u001b[38;5;45mNone\u001b[0m, \u001b[38;5;34m64\u001b[0m)             │             \u001b[38;5;34m0\u001b[0m │\n",
       "├─────────────────────────────────┼────────────────────────┼───────────────┤\n",
       "│ dense_1 (\u001b[38;5;33mDense\u001b[0m)                 │ (\u001b[38;5;45mNone\u001b[0m, \u001b[38;5;34m10\u001b[0m)             │           \u001b[38;5;34m650\u001b[0m │\n",
       "└─────────────────────────────────┴────────────────────────┴───────────────┘\n"
      ]
     },
     "metadata": {},
     "output_type": "display_data"
    },
    {
     "data": {
      "text/html": [
       "<pre style=\"white-space:pre;overflow-x:auto;line-height:normal;font-family:Menlo,'DejaVu Sans Mono',consolas,'Courier New',monospace\"><span style=\"font-weight: bold\"> Total params: </span><span style=\"color: #00af00; text-decoration-color: #00af00\">503,914</span> (1.92 MB)\n",
       "</pre>\n"
      ],
      "text/plain": [
       "\u001b[1m Total params: \u001b[0m\u001b[38;5;34m503,914\u001b[0m (1.92 MB)\n"
      ]
     },
     "metadata": {},
     "output_type": "display_data"
    },
    {
     "data": {
      "text/html": [
       "<pre style=\"white-space:pre;overflow-x:auto;line-height:normal;font-family:Menlo,'DejaVu Sans Mono',consolas,'Courier New',monospace\"><span style=\"font-weight: bold\"> Trainable params: </span><span style=\"color: #00af00; text-decoration-color: #00af00\">503,914</span> (1.92 MB)\n",
       "</pre>\n"
      ],
      "text/plain": [
       "\u001b[1m Trainable params: \u001b[0m\u001b[38;5;34m503,914\u001b[0m (1.92 MB)\n"
      ]
     },
     "metadata": {},
     "output_type": "display_data"
    },
    {
     "data": {
      "text/html": [
       "<pre style=\"white-space:pre;overflow-x:auto;line-height:normal;font-family:Menlo,'DejaVu Sans Mono',consolas,'Courier New',monospace\"><span style=\"font-weight: bold\"> Non-trainable params: </span><span style=\"color: #00af00; text-decoration-color: #00af00\">0</span> (0.00 B)\n",
       "</pre>\n"
      ],
      "text/plain": [
       "\u001b[1m Non-trainable params: \u001b[0m\u001b[38;5;34m0\u001b[0m (0.00 B)\n"
      ]
     },
     "metadata": {},
     "output_type": "display_data"
    }
   ],
   "source": [
    "embedding_dim=50\n",
    "\n",
    "MLP_model = Sequential([\n",
    "    layers.Input(shape=(1,), dtype=\"string\"),\n",
    "    vectorize_layer,\n",
    "    layers.Embedding(input_dim=len(vocab), output_dim=embedding_dim,\n",
    "                     embeddings_initializer='uniform'),\n",
    "    layers.GlobalAveragePooling1D(),\n",
    "    layers.Dense(64, activation='relu'),\n",
    "    layers.Dropout(0.2),\n",
    "    layers.Dense(n_classes, activation='softmax')\n",
    "], name=\"MLP_model\")\n",
    "\n",
    "MLP_model.summary()"
   ]
  },
  {
   "cell_type": "markdown",
   "id": "48cb6228",
   "metadata": {},
   "source": [
    "We assign the `Adam` optimizer and the `SparseCategoricalCrossentropy` loss to the model for training.\n",
    "We then train the model on the training data and log the validation loss."
   ]
  },
  {
   "cell_type": "code",
   "execution_count": 35,
   "id": "5081f2d8",
   "metadata": {},
   "outputs": [],
   "source": [
    "MLP_model.compile(optimizer=optimizers.Adam(),\n",
    "                  loss=losses.SparseCategoricalCrossentropy(from_logits=False),\n",
    "                  metrics=['accuracy'])"
   ]
  },
  {
   "cell_type": "code",
   "execution_count": 36,
   "id": "cdb72475",
   "metadata": {},
   "outputs": [
    {
     "name": "stdout",
     "output_type": "stream",
     "text": [
      "Epoch 1/10\n",
      "\u001b[1m483/483\u001b[0m \u001b[32m━━━━━━━━━━━━━━━━━━━━\u001b[0m\u001b[37m\u001b[0m \u001b[1m12s\u001b[0m 18ms/step - accuracy: 0.3444 - loss: 1.9115 - val_accuracy: 0.3567 - val_loss: 1.8484\n",
      "Epoch 2/10\n",
      "\u001b[1m483/483\u001b[0m \u001b[32m━━━━━━━━━━━━━━━━━━━━\u001b[0m\u001b[37m\u001b[0m \u001b[1m8s\u001b[0m 17ms/step - accuracy: 0.3514 - loss: 1.8613 - val_accuracy: 0.3567 - val_loss: 1.8432\n",
      "Epoch 3/10\n",
      "\u001b[1m483/483\u001b[0m \u001b[32m━━━━━━━━━━━━━━━━━━━━\u001b[0m\u001b[37m\u001b[0m \u001b[1m8s\u001b[0m 17ms/step - accuracy: 0.3513 - loss: 1.8504 - val_accuracy: 0.3577 - val_loss: 1.8043\n",
      "Epoch 4/10\n",
      "\u001b[1m483/483\u001b[0m \u001b[32m━━━━━━━━━━━━━━━━━━━━\u001b[0m\u001b[37m\u001b[0m \u001b[1m8s\u001b[0m 17ms/step - accuracy: 0.3658 - loss: 1.7958 - val_accuracy: 0.4010 - val_loss: 1.7559\n",
      "Epoch 5/10\n",
      "\u001b[1m483/483\u001b[0m \u001b[32m━━━━━━━━━━━━━━━━━━━━\u001b[0m\u001b[37m\u001b[0m \u001b[1m8s\u001b[0m 17ms/step - accuracy: 0.3966 - loss: 1.7273 - val_accuracy: 0.4157 - val_loss: 1.6872\n",
      "Epoch 6/10\n",
      "\u001b[1m483/483\u001b[0m \u001b[32m━━━━━━━━━━━━━━━━━━━━\u001b[0m\u001b[37m\u001b[0m \u001b[1m8s\u001b[0m 17ms/step - accuracy: 0.4177 - loss: 1.6684 - val_accuracy: 0.4148 - val_loss: 1.6661\n",
      "Epoch 7/10\n",
      "\u001b[1m483/483\u001b[0m \u001b[32m━━━━━━━━━━━━━━━━━━━━\u001b[0m\u001b[37m\u001b[0m \u001b[1m8s\u001b[0m 17ms/step - accuracy: 0.4308 - loss: 1.6225 - val_accuracy: 0.4032 - val_loss: 1.6527\n",
      "Epoch 8/10\n",
      "\u001b[1m483/483\u001b[0m \u001b[32m━━━━━━━━━━━━━━━━━━━━\u001b[0m\u001b[37m\u001b[0m \u001b[1m8s\u001b[0m 17ms/step - accuracy: 0.4409 - loss: 1.5940 - val_accuracy: 0.3929 - val_loss: 1.6553\n",
      "Epoch 9/10\n",
      "\u001b[1m483/483\u001b[0m \u001b[32m━━━━━━━━━━━━━━━━━━━━\u001b[0m\u001b[37m\u001b[0m \u001b[1m8s\u001b[0m 17ms/step - accuracy: 0.4559 - loss: 1.5460 - val_accuracy: 0.4346 - val_loss: 1.6420\n",
      "Epoch 10/10\n",
      "\u001b[1m483/483\u001b[0m \u001b[32m━━━━━━━━━━━━━━━━━━━━\u001b[0m\u001b[37m\u001b[0m \u001b[1m8s\u001b[0m 17ms/step - accuracy: 0.4596 - loss: 1.5374 - val_accuracy: 0.4201 - val_loss: 1.6054\n"
     ]
    }
   ],
   "source": [
    "epochs = 10\n",
    "history_MLP = MLP_model.fit(X_train, y_train, validation_data=(X_valid, y_valid),\n",
    "                            batch_size=128, epochs=epochs)\n",
    "\n",
    "MLP_model.save_weights(\"./checkpoints/MLP_10/MLP_10.weights.h5\") # Save the network's weights\n",
    "#MLP_model.save(\"./checkpoints/MLP_10_model\") #for saving the whole model object"
   ]
  },
  {
   "cell_type": "code",
   "execution_count": 37,
   "id": "60086caf",
   "metadata": {},
   "outputs": [],
   "source": [
    "MLP_model.load_weights(\"./checkpoints/MLP_10/MLP_10.weights.h5\")"
   ]
  },
  {
   "cell_type": "markdown",
   "id": "28a62b40",
   "metadata": {},
   "source": [
    "We evaluate the model on the validation data, and inspect the training `history`."
   ]
  },
  {
   "cell_type": "code",
   "execution_count": 38,
   "id": "40f483d0",
   "metadata": {},
   "outputs": [
    {
     "name": "stdout",
     "output_type": "stream",
     "text": [
      "\u001b[1m483/483\u001b[0m \u001b[32m━━━━━━━━━━━━━━━━━━━━\u001b[0m\u001b[37m\u001b[0m \u001b[1m2s\u001b[0m 4ms/step - accuracy: 0.4205 - loss: 1.5943\n",
      "Loss:  1.6054012775421143\n",
      "Accuracy:  0.4201386570930481\n"
     ]
    }
   ],
   "source": [
    "loss, accuracy = MLP_model.evaluate(X_valid, y_valid)\n",
    "\n",
    "print(\"Loss: \", loss)\n",
    "print(\"Accuracy: \", accuracy)"
   ]
  },
  {
   "cell_type": "code",
   "execution_count": 41,
   "id": "a52e89f1",
   "metadata": {},
   "outputs": [
    {
     "data": {
      "text/plain": [
       "dict_keys(['accuracy', 'loss', 'val_accuracy', 'val_loss'])"
      ]
     },
     "execution_count": 41,
     "metadata": {},
     "output_type": "execute_result"
    }
   ],
   "source": [
    "history_MLP_dict = history_MLP.history\n",
    "history_MLP_dict.keys()"
   ]
  },
  {
   "cell_type": "code",
   "execution_count": 42,
   "id": "324c8129",
   "metadata": {},
   "outputs": [],
   "source": [
    "def plot_training(history_dict):\n",
    "    acc = history_dict['accuracy']\n",
    "    val_acc = history_dict['val_accuracy']\n",
    "    loss = history_dict['loss']\n",
    "    val_loss = history_dict['val_loss']\n",
    "    \n",
    "    epochs = range(1, len(loss) + 1)\n",
    "    \n",
    "    plt.figure(figsize=(10, 4))\n",
    "    plt.subplot(1, 2, 1)\n",
    "    plt.plot(epochs, loss, 'b--', label='Training')\n",
    "    plt.plot(epochs, val_loss, 'r-', label='Validation')\n",
    "    plt.xlabel('Epochs')\n",
    "    plt.ylabel('Cross-Entropy Loss')\n",
    "    plt.legend()\n",
    "    \n",
    "    plt.subplot(1, 2, 2)\n",
    "    plt.plot(epochs, acc, 'b--', label='Training')\n",
    "    plt.plot(epochs, val_acc, 'r-', label='Validation')\n",
    "    plt.xlabel('Epochs')\n",
    "    plt.ylabel('Accuracy')\n",
    "    plt.legend(loc='lower right')\n",
    "    \n",
    "    plt.show()"
   ]
  },
  {
   "cell_type": "code",
   "execution_count": 43,
   "id": "f78bfa55",
   "metadata": {},
   "outputs": [
    {
     "data": {
      "image/png": "[encoded data removed]",
      "text/plain": [
       "<Figure size 1000x400 with 2 Axes>"
      ]
     },
     "metadata": {},
     "output_type": "display_data"
    }
   ],
   "source": [
    "plot_training(history_MLP_dict)"
   ]
  },
  {
   "cell_type": "markdown",
   "id": "05ba868c",
   "metadata": {},
   "source": [
    "We predict the expected character for a few new line examples."
   ]
  },
  {
   "cell_type": "code",
   "execution_count": 44,
   "id": "6846f00b",
   "metadata": {},
   "outputs": [
    {
     "name": "stdout",
     "output_type": "stream",
     "text": [
      "\u001b[1m1/1\u001b[0m \u001b[32m━━━━━━━━━━━━━━━━━━━━\u001b[0m\u001b[37m\u001b[0m \u001b[1m0s\u001b[0m 248ms/step\n"
     ]
    },
    {
     "data": {
      "text/plain": [
       "array([[0.13149324, 0.5306721 , 0.03666424, 0.03317079, 0.01182469,\n",
       "        0.08000086, 0.02459603, 0.1020878 , 0.02074529, 0.02874493],\n",
       "       [0.16050202, 0.12754111, 0.3030765 , 0.3229027 , 0.00990439,\n",
       "        0.00940417, 0.03299036, 0.01007013, 0.01247558, 0.01113308],\n",
       "       [0.35703164, 0.17379546, 0.23897542, 0.15281329, 0.0095953 ,\n",
       "        0.01632456, 0.01388061, 0.01175065, 0.01097964, 0.01485339]],\n",
       "      dtype=float32)"
      ]
     },
     "execution_count": 44,
     "metadata": {},
     "output_type": "execute_result"
    }
   ],
   "source": [
    "examples = np.array([\"Homer, come here!\",\n",
    "                     \"Science is amazing.\",\n",
    "                     \"Duh\"], \n",
    "                    dtype=\"object\")\n",
    "\n",
    "MLP_model.predict(examples)"
   ]
  },
  {
   "cell_type": "code",
   "execution_count": 47,
   "id": "7a0bd5f7",
   "metadata": {},
   "outputs": [],
   "source": [
    "def predict_class(tf_model, data, class_names=main_characters):\n",
    "    \"\"\"Returns the string model predictions (class name of the largest network output activation).\"\"\"\n",
    "    return np.array(class_names)[tf_model.predict(data).argmax(axis=1)]"
   ]
  },
  {
   "cell_type": "code",
   "execution_count": 48,
   "id": "8bc64ce2",
   "metadata": {},
   "outputs": [
    {
     "name": "stdout",
     "output_type": "stream",
     "text": [
      "\u001b[1m1/1\u001b[0m \u001b[32m━━━━━━━━━━━━━━━━━━━━\u001b[0m\u001b[37m\u001b[0m \u001b[1m0s\u001b[0m 36ms/step\n"
     ]
    },
    {
     "data": {
      "text/plain": [
       "array(['Marge Simpson', 'Lisa Simpson', 'Homer Simpson'], dtype='<U19')"
      ]
     },
     "execution_count": 48,
     "metadata": {},
     "output_type": "execute_result"
    }
   ],
   "source": [
    "predict_class(MLP_model, examples)"
   ]
  },
  {
   "cell_type": "markdown",
   "id": "bf5de45a",
   "metadata": {},
   "source": [
    "A few tutorials for more details:\n",
    "- https://www.tensorflow.org/text/guide/word_embeddings\n",
    "- https://www.tensorflow.org/tutorials/keras/text_classification"
   ]
  },
  {
   "cell_type": "markdown",
   "id": "6e37f31b",
   "metadata": {},
   "source": [
    "##  Recurrent network architectures"
   ]
  },
  {
   "cell_type": "markdown",
   "id": "be61290f",
   "metadata": {},
   "source": [
    "We now construct a few recurrent architectures on top of the embedding layers. Those allow to capture sequential dependencies in the input text sequences through latent variables, and also dealing with varying text sequence lengths.\n",
    "\n",
    "The three main type of recurrent layers implemented in `tensorflow` are: `SimpleRNN`, `LSTM` and `GRU`.\n",
    "We here use the LSTM layers, but one can in principle substitute it for any of the others.\n",
    "\n",
    "As the meaning of a word can sometimes depend not only on the context preceding it, but also succeeding it, \"Bidirectional\" recurrent architectures are often used in some NLP tasks. The `Bidirectional` layer wrapper allows to implement this easily in a `Sequential` model\n",
    "\n",
    "A few tutorials to go further:\n",
    "- https://www.tensorflow.org/text/tutorials/text_classification_rnn\n",
    "- https://www.tensorflow.org/guide/keras/rnn"
   ]
  },
  {
   "cell_type": "code",
   "execution_count": 49,
   "id": "3310b510",
   "metadata": {},
   "outputs": [],
   "source": [
    "max_vocab = 10000\n",
    "vectorize_layer = layers.TextVectorization(max_tokens=max_vocab, standardize='lower_and_strip_punctuation',\n",
    "                                           output_mode='int', output_sequence_length=None)\n",
    "vectorize_layer.adapt(X_train)"
   ]
  },
  {
   "cell_type": "markdown",
   "id": "975ffa8d",
   "metadata": {},
   "source": [
    "Here are a few example of LSTM-based architectures:"
   ]
  },
  {
   "cell_type": "code",
   "execution_count": 50,
   "id": "360a73ab",
   "metadata": {},
   "outputs": [],
   "source": [
    "embedding_dim=50\n",
    "\n",
    "# Using masking with 'mask_zero=True' to handle the variable sequence lengths in subsequent layers.\n",
    "\n",
    "LSTM_model = tf.keras.Sequential([\n",
    "    layers.Input(shape=(1,), dtype=\"string\"),\n",
    "    vectorize_layer,\n",
    "    layers.Embedding(input_dim=len(vectorize_layer.get_vocabulary()), output_dim=embedding_dim,\n",
    "                     embeddings_initializer='uniform', mask_zero=True),\n",
    "    layers.LSTM(64),\n",
    "    layers.Dense(64, activation='relu'),\n",
    "    layers.Dense(n_classes, activation='softmax')\n",
    "], name=\"LSTM_model\")\n",
    "\n",
    "BLSTM_model = tf.keras.Sequential([\n",
    "    layers.Input(shape=(1,), dtype=\"string\"),\n",
    "    vectorize_layer,\n",
    "    layers.Embedding(input_dim=len(vectorize_layer.get_vocabulary()), output_dim=embedding_dim,\n",
    "                     embeddings_initializer='uniform', mask_zero=True),\n",
    "    layers.Bidirectional(layers.LSTM(64), merge_mode='concat'),\n",
    "    layers.Dense(n_classes, activation='softmax')\n",
    "], name=\"BLSTM_model\")\n",
    "\n",
    "BLSTM2_model = tf.keras.Sequential([\n",
    "    layers.Input(shape=(1,), dtype=\"string\"),\n",
    "    vectorize_layer,\n",
    "    layers.Embedding(input_dim=len(vectorize_layer.get_vocabulary()), output_dim=embedding_dim,\n",
    "                     embeddings_initializer='uniform', mask_zero=True),\n",
    "    layers.Bidirectional(layers.LSTM(64,  return_sequences=True), merge_mode='concat'),\n",
    "    layers.Bidirectional(layers.LSTM(32), merge_mode='concat'),\n",
    "    layers.Dense(64, activation='relu'),\n",
    "    layers.Dropout(0.5),\n",
    "    layers.Dense(n_classes, activation='softmax')\n",
    "], name=\"BLSTM2_model\")\n"
   ]
  },
  {
   "cell_type": "markdown",
   "id": "b68dbdb7",
   "metadata": {},
   "source": [
    "(Using masking with `'mask_zero=True'` in the embedding to handle the variable sequence lengths in subsequent layers: https://www.tensorflow.org/guide/keras/masking_and_padding)"
   ]
  },
  {
   "cell_type": "code",
   "execution_count": 51,
   "id": "535319da",
   "metadata": {},
   "outputs": [],
   "source": [
    "BLSTM_model.compile(optimizer=optimizers.Adam(learning_rate=1e-4),\n",
    "                    loss=losses.SparseCategoricalCrossentropy(from_logits=False),\n",
    "                    metrics=['accuracy'])"
   ]
  },
  {
   "cell_type": "code",
   "execution_count": null,
   "id": "6cc167c3",
   "metadata": {},
   "outputs": [],
   "source": [
    "epochs = 10#100\n",
    "history_lstm = BLSTM_model.fit(X_train, y_train, validation_data=(X_valid, y_valid),\n",
    "                               batch_size=128, epochs=epochs)\n",
    "\n",
    "BLSTM_model.save_weights(\"./checkpoints/BLSTM_10/BLSTM_10.weights.h5\")\n",
    "#BLSTM_model.save(\"./checkpoints/BLSTM_10_model\")\n",
    "\n",
    "history_lstm_dict = history_lstm.history\n",
    "json.dump(history_lstm_dict, open(\"./checkpoints/history/BLSTM_10.txt\", 'w'))"
   ]
  },
  {
   "cell_type": "code",
   "execution_count": 52,
   "id": "8ab85061",
   "metadata": {},
   "outputs": [
    {
     "name": "stderr",
     "output_type": "stream",
     "text": [
      "c:\\Users\\pascheo\\AppData\\Local\\Programs\\Python\\Python312\\Lib\\site-packages\\keras\\src\\saving\\saving_lib.py:415: UserWarning: Skipping variable loading for optimizer 'adam', because it has 2 variables whereas the saved optimizer has 20 variables. \n",
      "  saveable.load_own_variables(weights_store.get(inner_path))\n"
     ]
    }
   ],
   "source": [
    "BLSTM_model.load_weights(\"./checkpoints/BLSTM_10/BLSTM_10.weights.h5\")\n",
    "history_lstm_dict = json.load(open(\"./checkpoints/history/BLSTM_10.txt\", 'r'))"
   ]
  },
  {
   "cell_type": "code",
   "execution_count": 53,
   "id": "c2fa24f9",
   "metadata": {},
   "outputs": [
    {
     "name": "stdout",
     "output_type": "stream",
     "text": [
      "\u001b[1m483/483\u001b[0m \u001b[32m━━━━━━━━━━━━━━━━━━━━\u001b[0m\u001b[37m\u001b[0m \u001b[1m6s\u001b[0m 10ms/step - accuracy: 0.4327 - loss: 1.6423\n",
      "Test Loss: 1.6546300649642944\n",
      "Test Accuracy: 0.4297932982444763\n"
     ]
    },
    {
     "data": {
      "image/png": "[encoded data removed]",
      "text/plain": [
       "<Figure size 1000x400 with 2 Axes>"
      ]
     },
     "metadata": {},
     "output_type": "display_data"
    }
   ],
   "source": [
    "test_loss, test_acc = BLSTM_model.evaluate(X_valid, y_valid)\n",
    "\n",
    "print('Test Loss:', test_loss)\n",
    "print('Test Accuracy:', test_acc)\n",
    "\n",
    "plot_training(history_lstm_dict)"
   ]
  },
  {
   "cell_type": "code",
   "execution_count": 54,
   "id": "bcbcae4e",
   "metadata": {},
   "outputs": [
    {
     "name": "stdout",
     "output_type": "stream",
     "text": [
      "\u001b[1m1/1\u001b[0m \u001b[32m━━━━━━━━━━━━━━━━━━━━\u001b[0m\u001b[37m\u001b[0m \u001b[1m1s\u001b[0m 998ms/step\n",
      "\u001b[1m1/1\u001b[0m \u001b[32m━━━━━━━━━━━━━━━━━━━━\u001b[0m\u001b[37m\u001b[0m \u001b[1m0s\u001b[0m 72ms/step\n"
     ]
    },
    {
     "data": {
      "text/plain": [
       "array(['Marge Simpson', 'Lisa Simpson', 'Homer Simpson'], dtype='<U19')"
      ]
     },
     "execution_count": 54,
     "metadata": {},
     "output_type": "execute_result"
    }
   ],
   "source": [
    "BLSTM_model.predict(examples)\n",
    "predict_class(BLSTM_model, examples)"
   ]
  },
  {
   "cell_type": "markdown",
   "id": "235ac066",
   "metadata": {},
   "source": [
    "## Using pretrained word vectors"
   ]
  },
  {
   "cell_type": "markdown",
   "id": "1a003277",
   "metadata": {},
   "source": [
    "Instead of randomly initializing the `Embedding` layer, one can give pretrained word vectors to it.\n",
    "We here use pretrained GloVe vectors."
   ]
  },
  {
   "cell_type": "code",
   "execution_count": 55,
   "id": "3e3aa342",
   "metadata": {},
   "outputs": [],
   "source": [
    "from gensim.models import KeyedVectors\n",
    "import gensim.downloader as gensim_api"
   ]
  },
  {
   "cell_type": "code",
   "execution_count": 56,
   "id": "99418275",
   "metadata": {},
   "outputs": [],
   "source": [
    "embedding_dim = 100\n",
    "glv_embd = gensim_api.load(\"glove-wiki-gigaword-100\")"
   ]
  },
  {
   "cell_type": "code",
   "execution_count": 57,
   "id": "8cc2ceb3",
   "metadata": {},
   "outputs": [],
   "source": [
    "max_vocab = 10000\n",
    "vectorize_layer = layers.TextVectorization(max_tokens=max_vocab, standardize='lower_and_strip_punctuation',\n",
    "                                           output_mode='int', output_sequence_length=None)\n",
    "vectorize_layer.adapt(X_train)"
   ]
  },
  {
   "cell_type": "code",
   "execution_count": 59,
   "id": "c2bd1967",
   "metadata": {},
   "outputs": [
    {
     "name": "stdout",
     "output_type": "stream",
     "text": [
      "438\n"
     ]
    }
   ],
   "source": [
    "vocab = vectorize_layer.get_vocabulary(include_special_tokens=True)\n",
    "embedding_matrix = np.random.uniform(-0.05, 0.05, (len(vocab), embedding_dim))\n",
    "\n",
    "oov_words = list()\n",
    "for i, w in enumerate(vocab):\n",
    "    try:\n",
    "        embedding_matrix[i,] = glv_embd.get_vector(w, norm=True)\n",
    "    except:\n",
    "        embedding_matrix[i,] = embedding_matrix[1,]\n",
    "        oov_words += [w]\n",
    "\n",
    "#print(oov_words)\n",
    "print(len(oov_words))"
   ]
  },
  {
   "cell_type": "code",
   "execution_count": 60,
   "id": "df933c32",
   "metadata": {},
   "outputs": [
    {
     "data": {
      "text/plain": [
       "10000"
      ]
     },
     "execution_count": 60,
     "metadata": {},
     "output_type": "execute_result"
    }
   ],
   "source": [
    "len(vocab)"
   ]
  },
  {
   "cell_type": "code",
   "execution_count": 61,
   "id": "1ffb6883",
   "metadata": {},
   "outputs": [],
   "source": [
    "embedder = layers.Embedding(input_dim=len(vectorize_layer.get_vocabulary()), output_dim=embedding_dim,\n",
    "                            embeddings_initializer=keras.initializers.Constant(embedding_matrix),\n",
    "                            mask_zero=True, trainable=False, name='embedding')"
   ]
  },
  {
   "cell_type": "code",
   "execution_count": 62,
   "id": "923ee088",
   "metadata": {},
   "outputs": [
    {
     "data": {
      "text/plain": [
       "array(['finally i realized if i was ever going to get out of there i would have to do it myself'],\n",
       "      dtype=object)"
      ]
     },
     "execution_count": 62,
     "metadata": {},
     "output_type": "execute_result"
    }
   ],
   "source": [
    "X_train[[7]]"
   ]
  },
  {
   "cell_type": "code",
   "execution_count": 63,
   "id": "593a664a",
   "metadata": {},
   "outputs": [
    {
     "data": {
      "text/plain": [
       "array([ 0.12676363, -0.05699045,  0.07344589,  0.03163813,  0.0091377 ,\n",
       "        0.00973021,  0.02216944,  0.0485875 ,  0.10702284, -0.13639013,\n",
       "        0.17047742,  0.06009134,  0.05314559,  0.07110946,  0.04354573,\n",
       "       -0.11332506,  0.06841231,  0.09726313, -0.09638799, -0.06351196,\n",
       "        0.0042937 , -0.02317575,  0.00517991, -0.03167707,  0.07351557,\n",
       "        0.05046484, -0.10052183, -0.10115923,  0.12830895, -0.09516443,\n",
       "       -0.04108838,  0.1520442 , -0.04745412,  0.02095409, -0.00392295,\n",
       "       -0.11140673, -0.06393621, -0.05125185,  0.01868775, -0.03329208,\n",
       "       -0.14061621, -0.09789848,  0.07564705, -0.11232696,  0.027865  ,\n",
       "       -0.01940713,  0.04005953, -0.03991811,  0.22366194, -0.14765829,\n",
       "       -0.00381637, -0.06168995,  0.04260706,  0.26252046,  0.03506285,\n",
       "       -0.46039972, -0.1147884 ,  0.01342587,  0.16513027,  0.15626618,\n",
       "        0.02464114,  0.1059612 , -0.11800817,  0.01163255,  0.157211  ,\n",
       "       -0.00469725, -0.03396227,  0.05660515, -0.08130982, -0.02618031,\n",
       "        0.0897927 , -0.01969549, -0.06855578, -0.04205574, -0.04029727,\n",
       "        0.03759603, -0.06746545, -0.00713493, -0.09236072,  0.06668459,\n",
       "       -0.01555858,  0.03329823, -0.17175016,  0.01260648, -0.25471187,\n",
       "       -0.09988034,  0.04686387, -0.09438153, -0.07869056, -0.00300129,\n",
       "       -0.03005797, -0.11471257, -0.0366799 ,  0.08757104, -0.15734626,\n",
       "        0.04350884,  0.03516122,  0.03327773, -0.04945854,  0.05267625],\n",
       "      dtype=float32)"
      ]
     },
     "execution_count": 63,
     "metadata": {},
     "output_type": "execute_result"
    }
   ],
   "source": [
    "glv_embd.get_vector(\"finally\", norm=True)"
   ]
  },
  {
   "cell_type": "code",
   "execution_count": 66,
   "id": "7e38e03f",
   "metadata": {},
   "outputs": [
    {
     "data": {
      "text/plain": [
       "array([ 0.12676363, -0.05699045,  0.07344589,  0.03163813,  0.0091377 ,\n",
       "        0.00973021,  0.02216944,  0.0485875 ,  0.10702284, -0.13639013,\n",
       "        0.17047742,  0.06009134,  0.05314559,  0.07110946,  0.04354573,\n",
       "       -0.11332506,  0.06841231,  0.09726313, -0.09638799, -0.06351196,\n",
       "        0.0042937 , -0.02317575,  0.00517991, -0.03167707,  0.07351557,\n",
       "        0.05046484, -0.10052183, -0.10115923,  0.12830895, -0.09516443,\n",
       "       -0.04108838,  0.1520442 , -0.04745412,  0.02095409, -0.00392295,\n",
       "       -0.11140673, -0.06393621, -0.05125185,  0.01868775, -0.03329208,\n",
       "       -0.14061621, -0.09789848,  0.07564705, -0.11232696,  0.027865  ,\n",
       "       -0.01940713,  0.04005953, -0.03991811,  0.22366194, -0.14765829,\n",
       "       -0.00381637, -0.06168995,  0.04260706,  0.26252046,  0.03506285,\n",
       "       -0.46039972, -0.1147884 ,  0.01342587,  0.16513027,  0.15626618,\n",
       "        0.02464114,  0.1059612 , -0.11800817,  0.01163255,  0.157211  ,\n",
       "       -0.00469725, -0.03396227,  0.05660515, -0.08130982, -0.02618031,\n",
       "        0.0897927 , -0.01969549, -0.06855578, -0.04205574, -0.04029727,\n",
       "        0.03759603, -0.06746545, -0.00713493, -0.09236072,  0.06668459,\n",
       "       -0.01555858,  0.03329823, -0.17175016,  0.01260648, -0.25471187,\n",
       "       -0.09988034,  0.04686387, -0.09438153, -0.07869056, -0.00300129,\n",
       "       -0.03005797, -0.11471257, -0.0366799 ,  0.08757104, -0.15734626,\n",
       "        0.04350884,  0.03516122,  0.03327773, -0.04945854,  0.05267625],\n",
       "      dtype=float32)"
      ]
     },
     "execution_count": 66,
     "metadata": {},
     "output_type": "execute_result"
    }
   ],
   "source": [
    "embedder(vectorize_layer(X_train[[7]])).numpy()[0,0,]"
   ]
  },
  {
   "cell_type": "code",
   "execution_count": 67,
   "id": "d8f854f9",
   "metadata": {},
   "outputs": [
    {
     "data": {
      "text/plain": [
       "0"
      ]
     },
     "execution_count": 67,
     "metadata": {},
     "output_type": "execute_result"
    }
   ],
   "source": [
    "sum(glv_embd.get_vector(\"finally\", norm=True) != embedder(vectorize_layer(X_train[[7]])).numpy()[0,0,])"
   ]
  },
  {
   "cell_type": "code",
   "execution_count": 68,
   "id": "694e48c6",
   "metadata": {},
   "outputs": [],
   "source": [
    "#Pretrained embeddings:\n",
    "BLSTM_Glv_model = tf.keras.Sequential([\n",
    "    layers.Input(shape=(1,), dtype=\"string\"),\n",
    "    vectorize_layer,\n",
    "    layers.Embedding(input_dim=len(vectorize_layer.get_vocabulary()), output_dim=embedding_dim,\n",
    "                     embeddings_initializer=keras.initializers.Constant(embedding_matrix),\n",
    "                     mask_zero=True, trainable=False, name='embedding'),\n",
    "    layers.Bidirectional(layers.LSTM(64)),\n",
    "    layers.Dense(n_classes, activation='softmax')\n",
    "], name=\"BLSTM_Glv_model\")"
   ]
  },
  {
   "cell_type": "code",
   "execution_count": null,
   "id": "c207ce20",
   "metadata": {},
   "outputs": [],
   "source": [
    "BLSTM_Glv_model.compile(optimizer=optimizers.Adam(learning_rate=1e-4),\n",
    "                        loss=losses.SparseCategoricalCrossentropy(from_logits=False),\n",
    "                        metrics=['accuracy'])\n",
    "\n",
    "epochs_f = 10\n",
    "epochs_t = epochs_f + 10\n",
    "\n",
    "#Probably not ideal, but as an idea of what one can do:\n",
    "\n",
    "history_glv_f = BLSTM_Glv_model.fit(X_train, y_train, validation_data=(X_valid, y_valid),\n",
    "                                    batch_size=128, epochs=epochs_f)\n",
    "BLSTM_Glv_model.save_weights(\"./checkpoints/Glv_5/Glv_5.weights.h5\")\n",
    "\n",
    "BLSTM_Glv_model.layers[1].trainable = True\n",
    "\n",
    "history_glv_l = BLSTM_Glv_model.fit(X_train, y_train, validation_data=(X_valid, y_valid),\n",
    "                                    batch_size=128, epochs=epochs_t, initial_epoch=epochs_f)\n",
    "BLSTM_Glv_model.save_weights(\"./checkpoints/Glv_15/Glv_15.weights.h5\")"
   ]
  },
  {
   "cell_type": "code",
   "execution_count": null,
   "id": "9c8ae68d",
   "metadata": {},
   "outputs": [],
   "source": [
    "BLSTM_Glv_model.load_weights(\"./checkpoints/Glv_15/Glv_15.weights.h5\")"
   ]
  },
  {
   "cell_type": "code",
   "execution_count": null,
   "id": "1ab52be0",
   "metadata": {},
   "outputs": [],
   "source": [
    "test_loss, test_acc = BLSTM_Glv_model.evaluate(X_valid, y_valid)\n",
    "\n",
    "print('Test Loss:', test_loss)\n",
    "print('Test Accuracy:', test_acc)"
   ]
  },
  {
   "cell_type": "markdown",
   "id": "b57e4e7d",
   "metadata": {},
   "source": [
    "# Exercise: Fine tuning\n",
    "\n",
    "Try to achieve the best validation accuracy by fine-tuning the hyperparameters of any method above.\n",
    "\n",
    "The following two `callbacks` examples could be useful during training:\n",
    "```python\n",
    "    early_stopping_cb = keras.callbacks.EarlyStopping(patience=5, restore_best_weights=True, verbose=1)\n",
    "    checkpoint_cb = keras.callbacks.ModelCheckpoint(filepath = \"checkpoint/metwork_epoch={epoch:02d}-val_accuracy={val_accuracy:.2f}.h5\")\n",
    "    callbacks=[early_stopping_cb, checkpoint_cb]\n",
    "```\n",
    "To go further, `keras_tuner` can also be useful: https://www.tensorflow.org/tutorials/keras/keras_tuner."
   ]
  },
  {
   "cell_type": "code",
   "execution_count": null,
   "id": "5b08ee8e",
   "metadata": {},
   "outputs": [],
   "source": []
  }
 ],
 "metadata": {
  "kernelspec": {
   "display_name": "Python 3 (ipykernel)",
   "language": "python",
   "name": "python3"
  },
  "language_info": {
   "codemirror_mode": {
    "name": "ipython",
    "version": 3
   },
   "file_extension": ".py",
   "mimetype": "text/x-python",
   "name": "python",
   "nbconvert_exporter": "python",
   "pygments_lexer": "ipython3",
   "version": "3.12.2"
  }
 },
 "nbformat": 4,
 "nbformat_minor": 5
}
