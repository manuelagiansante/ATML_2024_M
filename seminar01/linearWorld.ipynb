{
 "cells": [
  {
   "cell_type": "markdown",
   "id": "e6a360d3",
   "metadata": {},
   "source": [
    "# Linear World\n",
    "\n",
    "In this notebook we implement a very simple example of the agent-environment interface used in reinforcement learning, called \"linear world\".\n",
    "\n",
    "The world consists of $n$ places in a row, labelled $0, 1, \\dots, n-1$, and the state of the world consists of the position where the player is located. The initial state has the player in the middle of the world:\n",
    "- The (empty) world for $n=5$: `\"_ _ _ _ _\"`\n",
    "- With the player in position $2$: `\"_ _ X _ _\"`\n",
    "\n",
    "The actions that the agent can take are `LEFT` and `RIGHT`, each moving the player one place in the indicated direction. In the two outer positions ($0$ and $n-1$), both actions result in a step towards the inside:\n",
    "- After action `RIGHT`: `\"_ _ _ X _\"`\n",
    "- After action `RIGHT`: `\"_ _ _ _ X\"`\n",
    "- After action `LEFT` or `RIGHT`: `\"_ _ _ X _\"`\n",
    "\n",
    "The reward is $+1$ for an action that leaves the player in one of the outer positions, and $0$, else. A possible sequence of events in this setting is:\n",
    "- `\"_ _ X _ _\"` $S_0 = 3, A_0 = \\text{\"RIGHT\"}$\n",
    "- `\"_ _ _ X _\"` $R_1 = 0, S_1 = 3, A_1 = \\text{\"LEFT\"}$\n",
    "- `\"_ _ X _ _\"` $R_2 = 0, S_2 = 2, A_2 = \\text{\"LEFT\"}$\n",
    "- `\"_ X _ _ _\"` $R_3 = 0, S_3 = 1, A_3 = \\text{\"LEFT\"}$\n",
    "- `\"X _ _ _ _\"` $R_4 = 1, S_4 = 0, A_4 = \\text{\"RIGHT\"}$\n",
    "- `\"_ X _ _ _\"` $R_5 = 0, S_5 = 1, A_5 = \\dots$\n",
    "\n",
    "\n"
   ]
  },
  {
   "cell_type": "markdown",
   "id": "6fcc3aad",
   "metadata": {},
   "source": [
    "S={0,...n-1}  or 1 to n \n",
    "\n",
    "A={'left', 'right' ={-1,+1}\n",
    "\n",
    "R={0,1}\n",
    "\n",
    "prob of new state\n",
    "P=p(s'|S,a)= \n",
    "1        a='R',s'=s+1\n",
    "                \n",
    "1       ,a='L',s'=s-1     \n",
    "                \n",
    "0       else\n",
    " edge cases\n",
    " 1 s=0 , s'=1\n",
    " 1 s=n-1, s'=n-1\n",
    "\n",
    "can write a deterministic function\n",
    "f(s,a) =s'\n",
    "\n",
    "\n",
    "1  if s=0\n",
    "n-2 s=n-1\n",
    "s+1 a=R\n",
    "s-1 a=L\n",
    "\n",
    "in the deterministic case by choosing an action i choose a state\n",
    "P(r|s,a)= 1 s=1 a=L\n",
    "1 s=n-2,a=R\n",
    "0 else"
   ]
  },
  {
   "cell_type": "markdown",
   "id": "fbe17e41",
   "metadata": {},
   "source": [
    "*<span style=\"color:red\">Below, the parts indicated by `#??` need to be filled in!</span>*"
   ]
  },
  {
   "cell_type": "code",
   "execution_count": 1,
   "id": "0ee78251",
   "metadata": {},
   "outputs": [],
   "source": [
    "# We use constants 1 and 2 to represent LEFT, RIGHT:\n",
    "LEFT = 1\n",
    "RIGHT = 2"
   ]
  },
  {
   "cell_type": "code",
   "execution_count": null,
   "id": "cb622ce6",
   "metadata": {},
   "outputs": [],
   "source": [
    "class LinearWorld:\n",
    "    def __init__(self, length):\n",
    "        # Store length of world\n",
    "        self._length= length # we need to set it as an attribute\n",
    "        # state shoud be prvate so thta the user does not change the length by themselves\n",
    "        \n",
    "        # Initialize state of world in the middle\n",
    "        self._state = length//2\n",
    "    \n",
    "    def step(self, action): #for a givenaction we get a certain rewards\n",
    "        #want to rememeber the prev state\n",
    "        #state0= self.state\n",
    "        # Compute new state\n",
    "        #?? (1. handle the outer two positions)\n",
    "        if self.state ==0:\n",
    "            self.state = 1#left position\n",
    "            #random.randint(1, self.length-1) for non deterministic case\n",
    "        elif self.state==self._length -1:\n",
    "            self.state=self._length - 2\n",
    "        elif action== LEFT:\n",
    "            self.state -=1\n",
    "        elif action == RIGHT:\n",
    "            self.state+=1\n",
    "        else raise Exception('wrong input!')\n",
    "        #?? (2. change position to the left/right)\n",
    "\n",
    "        # Compute reward\n",
    "        #?? does not depend on previous state\n",
    "        if self.state==0 or self.state=self.length -=1:\n",
    "            reward=1\n",
    "        else:\n",
    "            reward= 0\n",
    "        # Return state and reward\n",
    "        return self.state, reward\n",
    "    \n",
    "    def reset(self):\n",
    "        # Reset the position to the middle\n",
    "        self.state=self._length//2\n",
    "    \n",
    "    def showWorld(self): \n",
    "        #Print a representation of the linear world\n",
    "        ret=''\n",
    "        \n",
    "        # Start with an empty string\n",
    "        for i in range (self._length):\n",
    "           if i != self.state:\n",
    "               ret+= '_' \n",
    "           else:\n",
    "               ret+='X'\n",
    "        \n",
    "        # Add \"_\" for every empty spot, \"X\" for the player\n",
    "        #??\n",
    "        \n",
    "        # Print the complete string\n",
    "        print(ret)\n",
    "    \n",
    "    def __str__(self):\n",
    "        # (!) Advanced concept:\n",
    "        # Custom string-conversion (used e.g. by `print()`) - \n",
    "        \n",
    "        \n",
    "        # Start with an empty string\n",
    "        ret=''\n",
    "        for i in range (self._length):\n",
    "           if i != self.state:\n",
    "               ret+= '_' \n",
    "           else:\n",
    "               ret+='X'\n",
    "        \n",
    "        return ret\n",
    "        # Use the same logic as in .showWorld(), but return the string\n",
    "        # (instead of printing it)\n",
    "        #??\n"
   ]
  },
  {
   "cell_type": "markdown",
   "id": "f8caaca3",
   "metadata": {},
   "source": [
    "## Testing the linear world\n",
    "\n",
    "First, we create an instance of `LinearWorld`, then we use the `.step()` method to perform actions ($A_t$) and observe the resulting state ($S_{t+1}$) and reward ($R_{t+1}$)."
   ]
  },
  {
   "cell_type": "code",
   "execution_count": null,
   "id": "1989a25c",
   "metadata": {},
   "outputs": [],
   "source": [
    "# Create a new instance of the LinearWorld class\n",
    "lw = LinearWorld(7)"
   ]
  },
  {
   "cell_type": "code",
   "execution_count": null,
   "id": "1de7894e",
   "metadata": {},
   "outputs": [],
   "source": [
    "# Check the properties `length` and `pos` of the instance\n",
    "print(lw.state)\n",
    "print(lw.pos)"
   ]
  },
  {
   "cell_type": "code",
   "execution_count": null,
   "id": "e3376b28",
   "metadata": {},
   "outputs": [],
   "source": [
    "# Make a step and assign the outcome to variables (state + reward)\n",
    "#??\n",
    "state, reward= lw.step(RIGHT)\n",
    "\n",
    "# Print the outcome\n",
    "#?? (state)\n",
    "#?? (reward)"
   ]
  },
  {
   "cell_type": "markdown",
   "id": "64349e60",
   "metadata": {},
   "source": [
    "We can use the method `.showWorld()` to visualize the events \"graphically\":"
   ]
  },
  {
   "cell_type": "code",
   "execution_count": null,
   "id": "aa2d7c2a",
   "metadata": {},
   "outputs": [],
   "source": [
    "# Make a step\n",
    "#??\n",
    "\n",
    "# Show the new state of the world\n",
    "#??"
   ]
  },
  {
   "cell_type": "markdown",
   "id": "d12abb34",
   "metadata": {},
   "source": [
    "## Two simple policies\n",
    "\n",
    "Next, we implement two policies and see how they perform over a timespan of $T = 100$ steps:\n",
    "- The random policy randomly chooses and action\n",
    "- The \"right\" policy always goes `RIGHT`"
   ]
  },
  {
   "cell_type": "code",
   "execution_count": null,
   "id": "a441b8ca",
   "metadata": {},
   "outputs": [],
   "source": [
    "# We use numpy to choose a random action\n",
    "import random "
   ]
  },
  {
   "cell_type": "code",
   "execution_count": null,
   "id": "ac43f25b",
   "metadata": {},
   "outputs": [],
   "source": [
    "# Number of steps\n",
    "T = 100"
   ]
  },
  {
   "cell_type": "code",
   "execution_count": null,
   "id": "e2f80c56",
   "metadata": {},
   "outputs": [],
   "source": [
    "# Run the random policy for T steps, update the total reward\n",
    "lw = LinearWorld(7)\n",
    "totalRandom = 0\n",
    "for t in range(T):\n",
    "    a=random.choice(LEFT ,RIGHT)\n",
    "    state, reward = lw.step(a)\n",
    "    totalRandom+= reward\n",
    "    lw.showWorld()"
   ]
  },
  {
   "cell_type": "code",
   "execution_count": null,
   "id": "a6db5af8",
   "metadata": {},
   "outputs": [],
   "source": [
    "# Check the total rewards we got\n",
    "print(totalRandom)"
   ]
  },
  {
   "cell_type": "code",
   "execution_count": null,
   "id": "7e6a972d",
   "metadata": {},
   "outputs": [],
   "source": [
    "# Run the \"right\" policy for T steps, update the total reward\n",
    "lw = LinearWorld(7)\n",
    "totalRight = 0\n",
    "for t in range(T):\n",
    "   _, lw.step(RIGHT) # do not care aout state\n",
    "   totalRight+= reward\n",
    "   lw.showWorld()\n",
    "print (totalRight)"
   ]
  },
  {
   "cell_type": "code",
   "execution_count": null,
   "id": "7268a0b9",
   "metadata": {},
   "outputs": [],
   "source": [
    "# Check the total rewards we got\n",
    "print(totalRight)"
   ]
  }
 ],
 "metadata": {
  "kernelspec": {
   "display_name": "Python 3 (ipykernel)",
   "language": "python",
   "name": "python3"
  },
  "language_info": {
   "codemirror_mode": {
    "name": "ipython",
    "version": 3
   },
   "file_extension": ".py",
   "mimetype": "text/x-python",
   "name": "python",
   "nbconvert_exporter": "python",
   "pygments_lexer": "ipython3",
   "version": "3.12.2"
  }
 },
 "nbformat": 4,
 "nbformat_minor": 5
}
